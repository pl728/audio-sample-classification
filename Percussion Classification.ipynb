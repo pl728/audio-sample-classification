{
 "cells": [
  {
   "cell_type": "code",
   "execution_count": 3,
   "metadata": {},
   "outputs": [],
   "source": [
    "import librosa\n",
    "import numpy as np\n",
    "import pandas as pd\n",
    "from sklearn.model_selection import train_test_split\n",
    "import tensorflow as tf\n",
    "from tensorflow.keras.models import Sequential\n",
    "from tensorflow.keras.layers import Conv2D, Flatten, Dense, MaxPool2D, Dropout\n"
   ]
  },
  {
   "cell_type": "code",
   "execution_count": 4,
   "metadata": {},
   "outputs": [
    {
     "name": "stdout",
     "output_type": "stream",
     "text": [
      "(128,)\n",
      "[[4.9364899e+02 1.3382242e+03 8.3680701e+02 ... 8.0354203e-06\n",
      "  8.5975907e-06 6.0973957e-06]\n",
      " [2.1349692e+02 9.8276776e+02 5.0937537e+02 ... 1.7508426e-03\n",
      "  2.7589572e-03 8.0489012e-04]\n",
      " [3.4847284e+02 9.0860150e+02 3.3291241e+02 ... 4.1663774e-05\n",
      "  7.3597308e-05 2.4802917e-05]\n",
      " ...\n",
      " [2.2502916e-05 8.3084352e-04 2.2441533e-03 ... 4.6322175e-08\n",
      "  4.7188419e-08 5.0364477e-08]\n",
      " [2.0987345e-02 6.6036671e-02 1.5265882e-01 ... 2.5161073e-06\n",
      "  2.5729428e-06 2.3973475e-06]\n",
      " [7.0509864e-03 2.2733379e-02 3.5233915e-02 ... 7.3609786e-04\n",
      "  7.8171847e-04 1.1218864e-03]]\n"
     ]
    }
   ],
   "source": [
    "# parse the kicks, crashes \n",
    "# 0 = kick, 1 = crash\n",
    "\n",
    "feature = []\n",
    "label = []\n",
    "\n",
    "for i in range(1, 202):\n",
    "    d, sr = librosa.load(\"sample_kick/VEH1 Hard Kick - \" + str(i).zfill(3) + \".wav\", sr=44100, res_type='kaiser_fast')\n",
    "    mels = np.mean(librosa.feature.melspectrogram(y=d, sr=sr).T, axis=0)\n",
    "    feature.append(mels)\n",
    "    label.append(0)\n",
    "\n",
    "for i in range(1, 51):\n",
    "    d, sr = librosa.load(\"sample_crash/VEH1 Crash - \" + str(i).zfill(2) + \".wav\", sr=44100, res_type='kaiser_fast')\n",
    "    mels = np.mean(librosa.feature.melspectrogram(y=d, sr=sr).T, axis=0)\n",
    "    feature.append(mels)\n",
    "    label.append(1)\n",
    "    \n",
    "print(feature[0].shape)\n",
    "    \n",
    "\n",
    "\n",
    "data = {\n",
    "    \"X\": np.array(feature),\n",
    "    \"t\": np.array(label)\n",
    "}\n",
    "\n",
    "data[\"t\"] = tf.keras.utils.to_categorical(data[\"t\"])\n",
    "print(data[\"X\"])"
   ]
  },
  {
   "cell_type": "code",
   "execution_count": 5,
   "metadata": {},
   "outputs": [
    {
     "name": "stdout",
     "output_type": "stream",
     "text": [
      "(188, 128)\n",
      "(188, 16, 8, 1)\n"
     ]
    }
   ],
   "source": [
    "X_train, X_test, Y_train, Y_test = train_test_split(data[\"X\"], data[\"t\"], random_state=1)\n",
    "print(X_train.shape)\n",
    "X_train = X_train.reshape(188, 16, 8, 1)\n",
    "X_test = X_test.reshape(63, 16, 8, 1)\n",
    "print(X_train.shape)"
   ]
  },
  {
   "cell_type": "code",
   "execution_count": 6,
   "metadata": {},
   "outputs": [],
   "source": [
    "input_dim = (16, 8, 1)"
   ]
  },
  {
   "cell_type": "code",
   "execution_count": 7,
   "metadata": {
    "scrolled": true
   },
   "outputs": [
    {
     "name": "stdout",
     "output_type": "stream",
     "text": [
      "Train on 188 samples, validate on 63 samples\n",
      "Epoch 1/3\n",
      "188/188 [==============================] - 2s 12ms/sample - loss: 0.0819 - accuracy: 0.9894 - val_loss: 2.5664e-04 - val_accuracy: 1.0000\n",
      "Epoch 2/3\n",
      "188/188 [==============================] - 2s 9ms/sample - loss: 0.1500 - accuracy: 0.9787 - val_loss: 0.4054 - val_accuracy: 0.9524\n",
      "Epoch 3/3\n",
      "188/188 [==============================] - 2s 9ms/sample - loss: 0.0327 - accuracy: 0.9947 - val_loss: 3.2959e-06 - val_accuracy: 1.0000\n",
      "Model: \"sequential\"\n",
      "_________________________________________________________________\n",
      "Layer (type)                 Output Shape              Param #   \n",
      "=================================================================\n",
      "conv2d (Conv2D)              (None, 16, 8, 64)         640       \n",
      "_________________________________________________________________\n",
      "max_pooling2d (MaxPooling2D) (None, 8, 4, 64)          0         \n",
      "_________________________________________________________________\n",
      "conv2d_1 (Conv2D)            (None, 8, 4, 128)         73856     \n",
      "_________________________________________________________________\n",
      "max_pooling2d_1 (MaxPooling2 (None, 4, 2, 128)         0         \n",
      "_________________________________________________________________\n",
      "dropout (Dropout)            (None, 4, 2, 128)         0         \n",
      "_________________________________________________________________\n",
      "flatten (Flatten)            (None, 1024)              0         \n",
      "_________________________________________________________________\n",
      "dense (Dense)                (None, 1024)              1049600   \n",
      "_________________________________________________________________\n",
      "dense_1 (Dense)              (None, 2)                 2050      \n",
      "=================================================================\n",
      "Total params: 1,126,146\n",
      "Trainable params: 1,126,146\n",
      "Non-trainable params: 0\n",
      "_________________________________________________________________\n"
     ]
    }
   ],
   "source": [
    "model = Sequential()\n",
    "\n",
    "model.add(Conv2D(64, (3, 3), padding = \"same\", activation = \"tanh\", input_shape = input_dim))\n",
    "model.add(MaxPool2D(pool_size=(2, 2)))\n",
    "model.add(Conv2D(128, (3, 3), padding = \"same\", activation = \"tanh\"))\n",
    "model.add(MaxPool2D(pool_size=(2, 2)))\n",
    "model.add(Dropout(0.1))\n",
    "model.add(Flatten())\n",
    "model.add(Dense(1024, activation = \"tanh\"))\n",
    "model.add(Dense(2, activation = \"softmax\"))\n",
    "\n",
    "model.compile(optimizer = 'adam', loss = 'categorical_crossentropy', metrics = ['accuracy'])\n",
    "\n",
    "model.fit(X_train, Y_train, epochs = 3, batch_size = 1, validation_data = (X_test, Y_test))\n",
    "model.summary()"
   ]
  },
  {
   "cell_type": "code",
   "execution_count": 8,
   "metadata": {},
   "outputs": [
    {
     "name": "stdout",
     "output_type": "stream",
     "text": [
      "63/63 [==============================] - 0s 2ms/sample - loss: 3.2959e-06 - accuracy: 1.0000\n",
      "[3.295890305058232e-06, 1.0]\n"
     ]
    }
   ],
   "source": [
    "# predictions = model.predict(X_test)\n",
    "score = model.evaluate(X_test, Y_test)\n",
    "print(score)"
   ]
  },
  {
   "cell_type": "code",
   "execution_count": 9,
   "metadata": {},
   "outputs": [
    {
     "name": "stdout",
     "output_type": "stream",
     "text": [
      "WARNING:tensorflow:From c:\\users\\linpa\\anaconda3\\envs\\music\\lib\\site-packages\\tensorflow_core\\python\\ops\\resource_variable_ops.py:1786: calling BaseResourceVariable.__init__ (from tensorflow.python.ops.resource_variable_ops) with constraint is deprecated and will be removed in a future version.\n",
      "Instructions for updating:\n",
      "If using Keras pass *_constraint arguments to layers.\n",
      "INFO:tensorflow:Assets written to: kick-crash-classifier\\assets\n"
     ]
    }
   ],
   "source": [
    "model.save(\"kick-crash-classifier\")"
   ]
  }
 ],
 "metadata": {
  "kernelspec": {
   "display_name": "Python 3",
   "language": "python",
   "name": "python3"
  },
  "language_info": {
   "codemirror_mode": {
    "name": "ipython",
    "version": 3
   },
   "file_extension": ".py",
   "mimetype": "text/x-python",
   "name": "python",
   "nbconvert_exporter": "python",
   "pygments_lexer": "ipython3",
   "version": "3.7.9"
  }
 },
 "nbformat": 4,
 "nbformat_minor": 4
}
