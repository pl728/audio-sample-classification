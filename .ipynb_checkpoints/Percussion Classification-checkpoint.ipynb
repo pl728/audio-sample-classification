{
 "cells": [
  {
   "cell_type": "code",
   "execution_count": 72,
   "metadata": {},
   "outputs": [],
   "source": [
    "import librosa\n",
    "import numpy as np\n",
    "from sklearn.model_selection import train_test_split"
   ]
  },
  {
   "cell_type": "code",
   "execution_count": 70,
   "metadata": {},
   "outputs": [
    {
     "name": "stdout",
     "output_type": "stream",
     "text": [
      "<class 'numpy.ndarray'> <class 'numpy.ndarray'>\n"
     ]
    }
   ],
   "source": [
    "# parse the kicks, crashes \n",
    "\n",
    "feature = []\n",
    "label = []\n",
    "\n",
    "for i in range(1, 202):\n",
    "    d, sr = librosa.load(\"sample_kick/VEH1 Hard Kick - \" + str(i).zfill(3) + \".wav\", sr=44100, res_type='kaiser_fast')\n",
    "    mels = np.mean(librosa.feature.melspectrogram(y=d, sr=sr).T, axis=0)\n",
    "    feature.append(mels)\n",
    "    label.append(\"kick\")\n",
    "\n",
    "for i in range(1, 51):\n",
    "    d, sr = librosa.load(\"sample_crash/VEH1 Crash - \" + str(i).zfill(2) + \".wav\", sr=44100, res_type='kaiser_fast')\n",
    "    mels = np.mean(librosa.feature.melspectrogram(y=d, sr=sr).T, axis=0)\n",
    "    feature.append(mels)\n",
    "    label.append(\"crash\")\n",
    "\n",
    "data = {\n",
    "    \"X\": np.array(feature),\n",
    "    \"t\": np.array(label)\n",
    "}\n",
    "\n",
    "print(type(data[\"X\"]), type(data[\"t\"]))"
   ]
  },
  {
   "cell_type": "code",
   "execution_count": 73,
   "metadata": {},
   "outputs": [],
   "source": [
    "X_train, X_test, Y_train, Y_test = train_test_split(data[\"X\"], data[\"t\"], random_state=1)"
   ]
  },
  {
   "cell_type": "code",
   "execution_count": 76,
   "metadata": {},
   "outputs": [
    {
     "name": "stdout",
     "output_type": "stream",
     "text": [
      "(251,)\n"
     ]
    }
   ],
   "source": [
    "print(data[\"t\"].shape)"
   ]
  }
 ],
 "metadata": {
  "kernelspec": {
   "display_name": "Python 3",
   "language": "python",
   "name": "python3"
  },
  "language_info": {
   "codemirror_mode": {
    "name": "ipython",
    "version": 3
   },
   "file_extension": ".py",
   "mimetype": "text/x-python",
   "name": "python",
   "nbconvert_exporter": "python",
   "pygments_lexer": "ipython3",
   "version": "3.7.9"
  }
 },
 "nbformat": 4,
 "nbformat_minor": 4
}
